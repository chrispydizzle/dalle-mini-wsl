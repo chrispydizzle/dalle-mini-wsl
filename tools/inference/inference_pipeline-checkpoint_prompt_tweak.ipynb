{
 "cells": [
  {
   "cell_type": "code",
   "execution_count": null,
   "metadata": {
    "id": "sOtoOmYsSYPz",
    "pycharm": {
     "name": "#%%\n",
     "is_executing": true
    }
   },
   "outputs": [],
   "source": [
    "import os\n",
    "!pip install -q dalle-mini\n",
    "!pip install -q git+https://github.com/patil-suraj/vqgan-jax.git\n",
    "# Model references\n",
    "import jax\n",
    "import jax.numpy as jnp\n",
    "from flax.jax_utils import replicate\n",
    "from dalle_mini import DalleBart, DalleBartProcessor\n",
    "from vqgan_jax.modeling_flax_vqgan import VQModel\n",
    "import random\n",
    "\n",
    "# dalle-mega\n",
    "DALLE_MODEL = \"dalle-mini/dalle-mini/mega-1-fp16:latest\"\n",
    "DALLE_COMMIT_ID = None\n",
    "\n",
    "# VQGAN model\n",
    "VQGAN_REPO = \"dalle-mini/vqgan_imagenet_f16_16384\"\n",
    "VQGAN_COMMIT_ID = \"e93a26e7707683d349bf5d5c41c5b0ef69b677a9\"\n",
    "\n",
    "jax.local_device_count()\n",
    "# Load dalle-mini\n",
    "model, params = DalleBart.from_pretrained(DALLE_MODEL, revision=DALLE_COMMIT_ID, dtype=jnp.float16, _do_init=False)\n",
    "\n",
    "# Load VQGAN\n",
    "vqgan, vqgan_params = VQModel.from_pretrained(VQGAN_REPO, revision=VQGAN_COMMIT_ID, _do_init=False)\n",
    "\n",
    "if(jax.device_count('gpu')) > 1:\n",
    "    raise Exception(\"More than one\")\n",
    "\n",
    "params = replicate(params)\n",
    "vqgan_params = replicate(vqgan_params)\n",
    "\n",
    "from functools import partial\n",
    "\n",
    "# model inference\n",
    "@partial(jax.pmap, axis_name=\"batch\", static_broadcasted_argnums=(3, 4, 5, 6))\n",
    "def p_generate(tokenized_prompt, key, params, top_k, top_p, temperature, condition_scale):\n",
    "    return model.generate(**tokenized_prompt, prng_key=key, params=params, top_k=top_k, top_p=top_p, temperature=temperature, condition_scale=condition_scale,)\n",
    "\n",
    "\n",
    "# decode image\n",
    "@partial(jax.pmap, axis_name=\"batch\")\n",
    "def p_decode(indices, params):\n",
    "    return vqgan.decode_code(indices, params=params)\n",
    "\n",
    "# create a random key\n",
    "seed = random.randint(0, 2 ** 32 - 1)\n",
    "key = jax.random.PRNGKey(seed)\n",
    "\n",
    "processor = DalleBartProcessor.from_pretrained(DALLE_MODEL, revision=DALLE_COMMIT_ID)"
   ]
  },
  {
   "cell_type": "code",
   "execution_count": 7,
   "outputs": [],
   "source": [
    "prompts_pre = [\n",
    "    \"Microsoft\",\n",
    "    \"A golden retriever\",\n",
    "    \"New York City\",\n",
    "    \"A moogle\"\n",
    "]\n",
    "prompts_post = [\n",
    "    \"in the style of league of legends splash art, trending on ArtStation HQ, Digital art\",\n",
    "    \"in a snowglobe\",\n",
    "    \"zoomed out\",\n",
    "    \"detailed miniature replica\",\n",
    "    \"(Source: Getty Images)\",\n",
    "    \"infinitely detailed\",\n",
    "    \"blender render\",\n",
    "    \"god rays sun rays extremely hd studio footage\",\n",
    "    \"award winning photograph\",\n",
    "    \"dramatic lighting, Sigma 85mm f_1.4, 8k\",\n",
    "    \"after effects\",\n",
    "    \"professional photograph\",\n",
    "    \"3d render\",\n",
    "    \"cartoon\",\n",
    "    \"pencil sketch\",\n",
    "    \"photoshopped\",\n",
    "    \"anime\",\n",
    "    \"in the style of anime\",\n",
    "    \"Trending on artstation\",\n",
    "    \"Illustration\",\n",
    "    \"watercolor\",\n",
    "    \"painted in the style of Zdzisław Beksiński\",\n",
    "    \"in the style of starwars\",\n",
    "    \"impressionist style\",\n",
    "    \"drawing\",\n",
    "    \"black and white painting, creepy\",\n",
    "    \"security camera footage\",\n",
    "    \"pixel art\",\n",
    "    \"sculpture\",\n",
    "    \"baroque artwork\",\n",
    "    \"on an alien planet\",\n",
    "    \"screenshot\",\n",
    "    \"monster\"\n",
    "]\n",
    "\n",
    "# number of predictions per prompt\n",
    "n_predictions = 4\n",
    "\n",
    "# We can customize generation parameters (see https://huggingface.co/blog/how-to-generate)#\n",
    "min_k = 1\n",
    "min_p = .01\n",
    "min_temp = .01\n",
    "min_cond = 1\n",
    "\n",
    "base_k = 10\n",
    "base_p = 5\n",
    "base_temp = .5\n",
    "base_cond = 10\n",
    "\n",
    "max_k = 4999\n",
    "max_p = 5000\n",
    "max_temp = .98\n",
    "max_cond = 100\n",
    "gen_top_k = []\n",
    "gen_top_p = []\n",
    "temperature = []\n",
    "cond_scale = []\n",
    "\n",
    "for i in range(0, n_predictions):\n",
    "    gen_top_k.append(None)\n",
    "    #gen_top_k.append(random.randint(1, max_k))\n",
    "    gen_top_p.append(None)\n",
    "    #gen_top_p.append(random.randint(1, max_p))\n",
    "    temperature.append(None)\n",
    "    #temperature.append(random.randint(1,99)*.01)\n",
    "    cond_scale.append(base_cond)\n",
    "    #cond_scale.append(random.randint(0,max_cond))\n",
    "    #gen_top_k.append(floor(max_k - (min_k + ((i / n_predictions) * max_k ))))\n",
    "    #gen_top_p.append(min_p + ((i / n_predictions) * max_p))\n",
    "    #temperature.append(min_temp + ((i / n_predictions) * max_temp))\n",
    "    #cond_scale.append(min_cond + ((i / n_predictions) * max_cond))\n",
    "    #print(f\"{gen_top_p[i]} {gen_top_k[i]} {temperature[i]} {cond_scale[i]}\")"
   ],
   "metadata": {
    "collapsed": false,
    "pycharm": {
     "name": "#%%\n"
    }
   }
  },
  {
   "cell_type": "code",
   "execution_count": 8,
   "outputs": [
    {
     "name": "stdout",
     "output_type": "stream",
     "text": [
      "/home/cp/code/dalle-mini/tools/../pictures/Microsoftonanalienplanet2.jpg\n",
      "/home/cp/code/dalle-mini/tools/../pictures/Microsoftbaroqueartwork2.jpg\n",
      "/home/cp/code/dalle-mini/tools/../pictures/Microsoftsculpture2.jpg\n",
      "/home/cp/code/dalle-mini/tools/../pictures/Microsoftpixelart2.jpg\n",
      "/home/cp/code/dalle-mini/tools/../pictures/Microsoftsecuritycamerafootage2.jpg\n",
      "/home/cp/code/dalle-mini/tools/../pictures/Microsoftblackandwhitepaintingcreepy2.jpg\n",
      "/home/cp/code/dalle-mini/tools/../pictures/Microsoftdrawing2.jpg\n",
      "/home/cp/code/dalle-mini/tools/../pictures/Microsoftimpressioniststyle2.jpg\n",
      "/home/cp/code/dalle-mini/tools/../pictures/Microsoftonanalienplanet3.jpg\n",
      "/home/cp/code/dalle-mini/tools/../pictures/Microsoftbaroqueartwork3.jpg\n",
      "/home/cp/code/dalle-mini/tools/../pictures/Microsoftsculpture3.jpg\n",
      "/home/cp/code/dalle-mini/tools/../pictures/Microsoftpixelart3.jpg\n",
      "/home/cp/code/dalle-mini/tools/../pictures/Microsoftsecuritycamerafootage3.jpg\n",
      "/home/cp/code/dalle-mini/tools/../pictures/Microsoftblackandwhitepaintingcreepy3.jpg\n",
      "/home/cp/code/dalle-mini/tools/../pictures/Microsoftdrawing3.jpg\n",
      "/home/cp/code/dalle-mini/tools/../pictures/Microsoftimpressioniststyle3.jpg\n",
      "Prompts: ['Microsoft in the style of starwars', 'Microsoft painted in the style of Zdzisław Beksiński', 'Microsoft watercolor', 'Microsoft Illustration', 'Microsoft Trending on artstation', 'Microsoft in the style of anime', 'Microsoft anime', 'Microsoft photoshopped']\n",
      "\n"
     ]
    },
    {
     "data": {
      "text/plain": "  0%|          | 0/4 [00:00<?, ?it/s]",
      "application/vnd.jupyter.widget-view+json": {
       "version_major": 2,
       "version_minor": 0,
       "model_id": "707c49e743ab401bba76ea0c0f8e2a88"
      }
     },
     "metadata": {},
     "output_type": "display_data"
    },
    {
     "name": "stdout",
     "output_type": "stream",
     "text": [
      "/home/cp/code/dalle-mini/tools/../pictures/Microsoftinthestyleofstarwars0.jpg\n",
      "/home/cp/code/dalle-mini/tools/../pictures/MicrosoftpaintedinthestyleofZdzisławBeksiński0.jpg\n",
      "/home/cp/code/dalle-mini/tools/../pictures/Microsoftwatercolor0.jpg\n",
      "/home/cp/code/dalle-mini/tools/../pictures/MicrosoftIllustration0.jpg\n",
      "/home/cp/code/dalle-mini/tools/../pictures/MicrosoftTrendingonartstation0.jpg\n",
      "/home/cp/code/dalle-mini/tools/../pictures/Microsoftinthestyleofanime0.jpg\n",
      "/home/cp/code/dalle-mini/tools/../pictures/Microsoftanime0.jpg\n",
      "/home/cp/code/dalle-mini/tools/../pictures/Microsoftphotoshopped0.jpg\n",
      "/home/cp/code/dalle-mini/tools/../pictures/Microsoftinthestyleofstarwars1.jpg\n",
      "/home/cp/code/dalle-mini/tools/../pictures/MicrosoftpaintedinthestyleofZdzisławBeksiński1.jpg\n",
      "/home/cp/code/dalle-mini/tools/../pictures/Microsoftwatercolor1.jpg\n",
      "/home/cp/code/dalle-mini/tools/../pictures/MicrosoftIllustration1.jpg\n",
      "/home/cp/code/dalle-mini/tools/../pictures/MicrosoftTrendingonartstation1.jpg\n",
      "/home/cp/code/dalle-mini/tools/../pictures/Microsoftinthestyleofanime1.jpg\n",
      "/home/cp/code/dalle-mini/tools/../pictures/Microsoftanime1.jpg\n",
      "/home/cp/code/dalle-mini/tools/../pictures/Microsoftphotoshopped1.jpg\n",
      "/home/cp/code/dalle-mini/tools/../pictures/Microsoftinthestyleofstarwars2.jpg\n",
      "/home/cp/code/dalle-mini/tools/../pictures/MicrosoftpaintedinthestyleofZdzisławBeksiński2.jpg\n",
      "/home/cp/code/dalle-mini/tools/../pictures/Microsoftwatercolor2.jpg\n",
      "/home/cp/code/dalle-mini/tools/../pictures/MicrosoftIllustration2.jpg\n",
      "/home/cp/code/dalle-mini/tools/../pictures/MicrosoftTrendingonartstation2.jpg\n",
      "/home/cp/code/dalle-mini/tools/../pictures/Microsoftinthestyleofanime2.jpg\n",
      "/home/cp/code/dalle-mini/tools/../pictures/Microsoftanime2.jpg\n",
      "/home/cp/code/dalle-mini/tools/../pictures/Microsoftphotoshopped2.jpg\n",
      "/home/cp/code/dalle-mini/tools/../pictures/Microsoftinthestyleofstarwars3.jpg\n",
      "/home/cp/code/dalle-mini/tools/../pictures/MicrosoftpaintedinthestyleofZdzisławBeksiński3.jpg\n",
      "/home/cp/code/dalle-mini/tools/../pictures/Microsoftwatercolor3.jpg\n",
      "/home/cp/code/dalle-mini/tools/../pictures/MicrosoftIllustration3.jpg\n",
      "/home/cp/code/dalle-mini/tools/../pictures/MicrosoftTrendingonartstation3.jpg\n",
      "/home/cp/code/dalle-mini/tools/../pictures/Microsoftinthestyleofanime3.jpg\n",
      "/home/cp/code/dalle-mini/tools/../pictures/Microsoftanime3.jpg\n",
      "/home/cp/code/dalle-mini/tools/../pictures/Microsoftphotoshopped3.jpg\n",
      "Prompts: ['Microsoft pencil sketch', 'Microsoft cartoon', 'Microsoft 3d render', 'Microsoft professional photograph', 'Microsoft after effects', 'Microsoft dramatic lighting, Sigma 85mm f_1.4, 8k', 'Microsoft award winning photograph', 'Microsoft god rays sun rays extremely hd studio footage']\n",
      "\n"
     ]
    },
    {
     "data": {
      "text/plain": "  0%|          | 0/4 [00:00<?, ?it/s]",
      "application/vnd.jupyter.widget-view+json": {
       "version_major": 2,
       "version_minor": 0,
       "model_id": "3c889464c6114a07a7e868da63782873"
      }
     },
     "metadata": {},
     "output_type": "display_data"
    },
    {
     "name": "stdout",
     "output_type": "stream",
     "text": [
      "/home/cp/code/dalle-mini/tools/../pictures/Microsoftpencilsketch0.jpg\n",
      "/home/cp/code/dalle-mini/tools/../pictures/Microsoftcartoon0.jpg\n",
      "/home/cp/code/dalle-mini/tools/../pictures/Microsoft3drender0.jpg\n",
      "/home/cp/code/dalle-mini/tools/../pictures/Microsoftprofessionalphotograph0.jpg\n",
      "/home/cp/code/dalle-mini/tools/../pictures/Microsoftaftereffects0.jpg\n",
      "/home/cp/code/dalle-mini/tools/../pictures/MicrosoftdramaticlightingSigma85mmf_1.48k0.jpg\n",
      "/home/cp/code/dalle-mini/tools/../pictures/Microsoftawardwinningphotograph0.jpg\n",
      "/home/cp/code/dalle-mini/tools/../pictures/Microsoftgodrayssunraysextremelyhdstudiofootage0.jpg\n",
      "/home/cp/code/dalle-mini/tools/../pictures/Microsoftpencilsketch1.jpg\n",
      "/home/cp/code/dalle-mini/tools/../pictures/Microsoftcartoon1.jpg\n",
      "/home/cp/code/dalle-mini/tools/../pictures/Microsoft3drender1.jpg\n",
      "/home/cp/code/dalle-mini/tools/../pictures/Microsoftprofessionalphotograph1.jpg\n",
      "/home/cp/code/dalle-mini/tools/../pictures/Microsoftaftereffects1.jpg\n",
      "/home/cp/code/dalle-mini/tools/../pictures/MicrosoftdramaticlightingSigma85mmf_1.48k1.jpg\n",
      "/home/cp/code/dalle-mini/tools/../pictures/Microsoftawardwinningphotograph1.jpg\n",
      "/home/cp/code/dalle-mini/tools/../pictures/Microsoftgodrayssunraysextremelyhdstudiofootage1.jpg\n",
      "/home/cp/code/dalle-mini/tools/../pictures/Microsoftpencilsketch2.jpg\n",
      "/home/cp/code/dalle-mini/tools/../pictures/Microsoftcartoon2.jpg\n",
      "/home/cp/code/dalle-mini/tools/../pictures/Microsoft3drender2.jpg\n",
      "/home/cp/code/dalle-mini/tools/../pictures/Microsoftprofessionalphotograph2.jpg\n",
      "/home/cp/code/dalle-mini/tools/../pictures/Microsoftaftereffects2.jpg\n",
      "/home/cp/code/dalle-mini/tools/../pictures/MicrosoftdramaticlightingSigma85mmf_1.48k2.jpg\n",
      "/home/cp/code/dalle-mini/tools/../pictures/Microsoftawardwinningphotograph2.jpg\n",
      "/home/cp/code/dalle-mini/tools/../pictures/Microsoftgodrayssunraysextremelyhdstudiofootage2.jpg\n",
      "/home/cp/code/dalle-mini/tools/../pictures/Microsoftpencilsketch3.jpg\n",
      "/home/cp/code/dalle-mini/tools/../pictures/Microsoftcartoon3.jpg\n",
      "/home/cp/code/dalle-mini/tools/../pictures/Microsoft3drender3.jpg\n",
      "/home/cp/code/dalle-mini/tools/../pictures/Microsoftprofessionalphotograph3.jpg\n",
      "/home/cp/code/dalle-mini/tools/../pictures/Microsoftaftereffects3.jpg\n",
      "/home/cp/code/dalle-mini/tools/../pictures/MicrosoftdramaticlightingSigma85mmf_1.48k3.jpg\n",
      "/home/cp/code/dalle-mini/tools/../pictures/Microsoftawardwinningphotograph3.jpg\n",
      "/home/cp/code/dalle-mini/tools/../pictures/Microsoftgodrayssunraysextremelyhdstudiofootage3.jpg\n",
      "Prompts: ['Microsoft blender render', 'Microsoft infinitely detailed', 'Microsoft (Source: Getty Images)', 'Microsoft detailed miniature replica', 'Microsoft zoomed out', 'Microsoft in a snowglobe', 'Microsoft in the style of league of legends splash art, trending on ArtStation HQ, Digital art', 'Microsoft']\n",
      "\n"
     ]
    },
    {
     "data": {
      "text/plain": "  0%|          | 0/4 [00:00<?, ?it/s]",
      "application/vnd.jupyter.widget-view+json": {
       "version_major": 2,
       "version_minor": 0,
       "model_id": "76a5825d370e4ad58acbb98c960326c3"
      }
     },
     "metadata": {},
     "output_type": "display_data"
    },
    {
     "name": "stdout",
     "output_type": "stream",
     "text": [
      "/home/cp/code/dalle-mini/tools/../pictures/Microsoftblenderrender0.jpg\n",
      "/home/cp/code/dalle-mini/tools/../pictures/Microsoftinfinitelydetailed0.jpg\n",
      "/home/cp/code/dalle-mini/tools/../pictures/Microsoft(Source:GettyImages)0.jpg\n",
      "/home/cp/code/dalle-mini/tools/../pictures/Microsoftdetailedminiaturereplica0.jpg\n",
      "/home/cp/code/dalle-mini/tools/../pictures/Microsoftzoomedout0.jpg\n",
      "/home/cp/code/dalle-mini/tools/../pictures/Microsoftinasnowglobe0.jpg\n",
      "/home/cp/code/dalle-mini/tools/../pictures/MicrosoftinthestyleofleagueoflegendssplasharttrendingonArtStationHQDigitalart0.jpg\n",
      "/home/cp/code/dalle-mini/tools/../pictures/Microsoft0.jpg\n",
      "/home/cp/code/dalle-mini/tools/../pictures/Microsoftblenderrender1.jpg\n",
      "/home/cp/code/dalle-mini/tools/../pictures/Microsoftinfinitelydetailed1.jpg\n",
      "/home/cp/code/dalle-mini/tools/../pictures/Microsoft(Source:GettyImages)1.jpg\n",
      "/home/cp/code/dalle-mini/tools/../pictures/Microsoftdetailedminiaturereplica1.jpg\n",
      "/home/cp/code/dalle-mini/tools/../pictures/Microsoftzoomedout1.jpg\n",
      "/home/cp/code/dalle-mini/tools/../pictures/Microsoftinasnowglobe1.jpg\n",
      "/home/cp/code/dalle-mini/tools/../pictures/MicrosoftinthestyleofleagueoflegendssplasharttrendingonArtStationHQDigitalart1.jpg\n",
      "/home/cp/code/dalle-mini/tools/../pictures/Microsoft1.jpg\n",
      "/home/cp/code/dalle-mini/tools/../pictures/Microsoftblenderrender2.jpg\n",
      "/home/cp/code/dalle-mini/tools/../pictures/Microsoftinfinitelydetailed2.jpg\n",
      "/home/cp/code/dalle-mini/tools/../pictures/Microsoft(Source:GettyImages)2.jpg\n",
      "/home/cp/code/dalle-mini/tools/../pictures/Microsoftdetailedminiaturereplica2.jpg\n",
      "/home/cp/code/dalle-mini/tools/../pictures/Microsoftzoomedout2.jpg\n",
      "/home/cp/code/dalle-mini/tools/../pictures/Microsoftinasnowglobe2.jpg\n",
      "/home/cp/code/dalle-mini/tools/../pictures/MicrosoftinthestyleofleagueoflegendssplasharttrendingonArtStationHQDigitalart2.jpg\n",
      "/home/cp/code/dalle-mini/tools/../pictures/Microsoft2.jpg\n",
      "/home/cp/code/dalle-mini/tools/../pictures/Microsoftblenderrender3.jpg\n",
      "/home/cp/code/dalle-mini/tools/../pictures/Microsoftinfinitelydetailed3.jpg\n",
      "/home/cp/code/dalle-mini/tools/../pictures/Microsoft(Source:GettyImages)3.jpg\n",
      "/home/cp/code/dalle-mini/tools/../pictures/Microsoftdetailedminiaturereplica3.jpg\n",
      "/home/cp/code/dalle-mini/tools/../pictures/Microsoftzoomedout3.jpg\n",
      "/home/cp/code/dalle-mini/tools/../pictures/Microsoftinasnowglobe3.jpg\n",
      "/home/cp/code/dalle-mini/tools/../pictures/MicrosoftinthestyleofleagueoflegendssplasharttrendingonArtStationHQDigitalart3.jpg\n",
      "/home/cp/code/dalle-mini/tools/../pictures/Microsoft3.jpg\n"
     ]
    },
    {
     "data": {
      "text/plain": "<IPython.core.display.HTML object>",
      "text/html": "Waiting for W&B process to finish... <strong style=\"color:green\">(success).</strong>"
     },
     "metadata": {},
     "output_type": "display_data"
    },
    {
     "data": {
      "text/plain": "VBox(children=(Label(value='43.681 MB of 43.683 MB uploaded (29.099 MB deduped)\\r'), FloatProgress(value=0.999…",
      "application/vnd.jupyter.widget-view+json": {
       "version_major": 2,
       "version_minor": 0,
       "model_id": "b52bb88944284a4f9c26f18ff294ef37"
      }
     },
     "metadata": {},
     "output_type": "display_data"
    },
    {
     "data": {
      "text/plain": "<IPython.core.display.HTML object>",
      "text/html": "W&B sync reduced upload amount by 66.5%             "
     },
     "metadata": {},
     "output_type": "display_data"
    },
    {
     "data": {
      "text/plain": "<IPython.core.display.HTML object>",
      "text/html": "Synced <strong style=\"color:#cdcd00\">misunderstood-flower-7</strong>: <a href=\"https://wandb.ai/chrispydizzle/dalle-mini-tables-prompt-tweak/runs/3qwgaubv\" target=\"_blank\">https://wandb.ai/chrispydizzle/dalle-mini-tables-prompt-tweak/runs/3qwgaubv</a><br/>Synced 5 W&B file(s), 68 media file(s), 460 artifact file(s) and 0 other file(s)"
     },
     "metadata": {},
     "output_type": "display_data"
    },
    {
     "data": {
      "text/plain": "<IPython.core.display.HTML object>",
      "text/html": "Find logs at: <code>./wandb/run-20220702_133254-3qwgaubv/logs</code>"
     },
     "metadata": {},
     "output_type": "display_data"
    }
   ],
   "source": [
    "from flax.training.common_utils import shard_prng_key\n",
    "import numpy as np\n",
    "import os\n",
    "from PIL import Image\n",
    "from tqdm.notebook import trange\n",
    "import wandb\n",
    "\n",
    "project = 'dalle-mini-tables-prompt-tweak'\n",
    "run = wandb.init(project=project)\n",
    "columns = [\"captions\"] + [f\"img\"]  + [\"k\"] + [\"p\"] + [\"t\"] + [\"c\"] + [\"seed\"]\n",
    "gen_table = wandb.Table(columns=columns)\n",
    "\n",
    "allprompts = []\n",
    "for prompt in prompts_pre:\n",
    "    allprompts.append(prompt)\n",
    "    for post in prompts_post:\n",
    "        allprompts.append(f\"{prompt} {post}\")\n",
    "\n",
    "while len(allprompts) > 0:\n",
    "    prompts = []\n",
    "    print(f\"Remaining: {len(allprompts)}\")\n",
    "    while len(prompts) < 8 and len(allprompts) > 0:\n",
    "        p = allprompts.pop()\n",
    "        prompts.append(p)\n",
    "\n",
    "    if len(prompts) > 0:\n",
    "        tokenized_prompts = processor(prompts)\n",
    "        tokenized_prompt = replicate(tokenized_prompts)\n",
    "\n",
    "        print(f\"Prompts: {prompts}\\n\")\n",
    "        # generate images\n",
    "        images = []\n",
    "        for i in trange(max(n_predictions // jax.device_count(), 0)):\n",
    "            # get a new key\n",
    "            key, subkey = jax.random.split(key)\n",
    "            # generate images\n",
    "\n",
    "            #ams = namedtuple('ams', 'k p temp cond')\n",
    "            #gen_params = ams(gen_top_p[i], gen_top_k[i], temperature[i], cond_scale[i])\n",
    "            encoded_images = p_generate(tokenized_prompt, shard_prng_key(subkey), params, gen_top_k[i], gen_top_p[i], temperature[i], cond_scale[i])\n",
    "            # remove BOS\n",
    "            encoded_images = encoded_images.sequences[..., 1:]\n",
    "            # decode images\n",
    "            decoded_images = p_decode(encoded_images, vqgan_params)\n",
    "            decoded_images = decoded_images.clip(0.0, 1.0).reshape((-1, 256, 256, 3))\n",
    "            for j, decoded_img in enumerate(decoded_images):\n",
    "                img = Image.fromarray(np.asarray(decoded_img * 255, dtype=np.uint8))\n",
    "                images.append(img)\n",
    "                path=f'{os.getcwd()}/../pictures/{prompts[j].replace(\",\",\"\").replace(\" \",\"\")}{i}.jpg'\n",
    "                img.save(path)\n",
    "                gen_table.add_data(prompts[j], wandb.Image(img), gen_top_k[i], gen_top_p[i], temperature[i], cond_scale[i], seed)\n",
    "\n",
    "            # Log the Table to W&B dashboard.\n",
    "\n",
    "wandb.log({\"Generated Images\": gen_table})\n",
    "# Close the W&B run.\n",
    "run.finish()\n"
   ],
   "metadata": {
    "collapsed": false,
    "pycharm": {
     "name": "#%%\n"
    }
   }
  }
 ],
 "metadata": {
  "accelerator": "GPU",
  "colab": {
   "collapsed_sections": [],
   "include_colab_link": true,
   "machine_shape": "hm",
   "name": "DALL·E mini - Inference pipeline.ipynb",
   "provenance": []
  },
  "kernelspec": {
   "display_name": "Python 3 (ipykernel)",
   "language": "python",
   "name": "python3"
  },
  "language_info": {
   "codemirror_mode": {
    "name": "ipython",
    "version": 3
   },
   "file_extension": ".py",
   "mimetype": "text/x-python",
   "name": "python",
   "nbconvert_exporter": "python",
   "pygments_lexer": "ipython3",
   "version": "3.10.5"
  },
  "toc-autonumbering": false,
  "toc-showcode": true,
  "toc-showmarkdowntxt": true,
  "toc-showtags": false
 },
 "nbformat": 4,
 "nbformat_minor": 4
}